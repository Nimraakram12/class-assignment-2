{
  "nbformat": 4,
  "nbformat_minor": 0,
  "metadata": {
    "colab": {
      "provenance": []
    },
    "kernelspec": {
      "name": "python3",
      "display_name": "Python 3"
    },
    "language_info": {
      "name": "python"
    }
  },
  "cells": [
    {
      "cell_type": "markdown",
      "source": [
        "**GRADE SYSTEM**\n"
      ],
      "metadata": {
        "id": "ovpk9o6orzHQ"
      }
    },
    {
      "cell_type": "code",
      "source": [
        "score = float (input(\"Enter Your Marks:\"))\n",
        "if score < 0 or score > 100:\n",
        "  print(\"Invalid Score! Please enter a value between 0 and 100.\")\n",
        "elif score >= 90:\n",
        "    print(\"Grade: A\")\n",
        "elif score >= 80:\n",
        "    print(\"Grade: B\")\n",
        "elif score >= 70:\n",
        "    print(\"Grade: C\")\n",
        "elif score >= 60:\n",
        "    print(\"Grade: D\")\n",
        "else:\n",
        "    print(\"Grade: F\")"
      ],
      "metadata": {
        "colab": {
          "base_uri": "https://localhost:8080/"
        },
        "id": "dybSPk9FoQXb",
        "outputId": "ad32ecfb-0746-4027-a8b2-7278b156b741"
      },
      "execution_count": null,
      "outputs": [
        {
          "output_type": "stream",
          "name": "stdout",
          "text": [
            "Enter Your Marks:98\n",
            "Grade: A\n"
          ]
        }
      ]
    },
    {
      "cell_type": "markdown",
      "source": [
        "**SIMPLE CALCULATOR**"
      ],
      "metadata": {
        "id": "Kvyhv-uRsCGW"
      }
    },
    {
      "cell_type": "code",
      "source": [
        "print(\"SIMPLE CALCULATOR\")\n",
        "print(\"Operations: +, -, *, /, %, **\")\n",
        "\n",
        "num1 = float(input(\"Enter first number: \"))\n",
        "operator = input(\"Enter operator: \")\n",
        "num2 = float(input(\"Enter second number: \"))\n",
        "\n",
        "if operator == \"+\":\n",
        "    result = num1 + num2\n",
        "elif operator == \"-\":\n",
        "    result = num1 - num2\n",
        "elif operator == \"*\":\n",
        "    result = num1 * num2\n",
        "elif operator == \"/\":\n",
        "    if num2 == 0:\n",
        "        result = \"Cannot divide by zero!\"\n",
        "    else:\n",
        "        result = num1 / num2\n",
        "elif operator == \"%\":\n",
        "    result = num1 % num2\n",
        "elif operator == \"**\":\n",
        "    result = num1 ** num2\n",
        "else:\n",
        "    result = \"Invalid operator!\"\n",
        "\n",
        "print(f\"\\nResult: {num1} {operator} {num2} = {result}\")"
      ],
      "metadata": {
        "colab": {
          "base_uri": "https://localhost:8080/"
        },
        "id": "1wLLKZ2jsFkm",
        "outputId": "66693a9d-f0db-43ef-a5d7-2f332d07aafa"
      },
      "execution_count": null,
      "outputs": [
        {
          "output_type": "stream",
          "name": "stdout",
          "text": [
            "SIMPLE CALCULATOR\n",
            "Operations: +, -, *, /, %, **\n",
            "Enter first number: 1\n",
            "Enter operator: +\n",
            "Enter second number: 2\n",
            "\n",
            "Result: 1.0 + 2.0 = 3.0\n"
          ]
        }
      ]
    }
  ]
}